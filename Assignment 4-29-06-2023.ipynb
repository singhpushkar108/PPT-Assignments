{
 "cells": [
  {
   "cell_type": "code",
   "execution_count": null,
   "id": "8787b347",
   "metadata": {},
   "outputs": [],
   "source": [
    "##Q1\n",
    "def common_elements(arr1, arr2, arr3):\n",
    "    i = j = k = 0\n",
    "    result = []\n",
    "    \n",
    "    while i < len(arr1) and j < len(arr2) and k < len(arr3):\n",
    "        if arr1[i] == arr2[j] == arr3[k]:\n",
    "            result.append(arr1[i])\n",
    "            i += 1\n",
    "            j += 1\n",
    "            k += 1\n",
    "        elif arr1[i] < arr2[j]:\n",
    "            i += 1\n",
    "        elif arr2[j] < arr3[k]:\n",
    "            j += 1\n",
    "        else:\n",
    "            k += 1\n",
    "    \n",
    "    return result"
   ]
  },
  {
   "cell_type": "code",
   "execution_count": null,
   "id": "ebb24728",
   "metadata": {},
   "outputs": [],
   "source": [
    "# Example usage\n",
    "arr1 = [1, 2, 3, 4, 5]\n",
    "arr2 = [1, 2, 5, 7, 9]\n",
    "arr3 = [1, 3, 4, 5, 8]"
   ]
  },
  {
   "cell_type": "code",
   "execution_count": null,
   "id": "0039bb5d",
   "metadata": {},
   "outputs": [],
   "source": [
    "res =common_elements(arr1, arr2, arr3)\n",
    "print(res)"
   ]
  },
  {
   "cell_type": "code",
   "execution_count": null,
   "id": "e2d4cbb1",
   "metadata": {},
   "outputs": [],
   "source": [
    "##Q2\n",
    "def disjoint_ele(nums1, nums2):\n",
    "    set_nums1 = set(nums1)\n",
    "    set_nums2 = set(nums2)\n",
    "    \n",
    "    distinct_nums1 = [num for num in set_nums1 if num not in set_nums2]\n",
    "    distinct_nums2 = [num for num in set_nums2 if num not in set_nums1]\n",
    "    \n",
    "    return [distinct_nums1, distinct_nums2]"
   ]
  },
  {
   "cell_type": "code",
   "execution_count": null,
   "id": "2b871c4b",
   "metadata": {},
   "outputs": [],
   "source": [
    "# Example usage\n",
    "arr1 = [1, 2, 3]\n",
    "arr2 = [2, 4, 6]"
   ]
  },
  {
   "cell_type": "code",
   "execution_count": null,
   "id": "b1f74791",
   "metadata": {},
   "outputs": [],
   "source": [
    "res = disjoint_ele(arr1, arr2)\n",
    "print(res)"
   ]
  },
  {
   "cell_type": "code",
   "execution_count": null,
   "id": "e89e8092",
   "metadata": {},
   "outputs": [],
   "source": [
    "##Q3\n",
    "def transpose(matrix):\n",
    "\n",
    "    rows = len(matrix)\n",
    "    cols = len(matrix[0])\n",
    "    \n",
    "    # Creating a new matrix with dimensions flipped\n",
    "    transposed = [[0] * rows for _ in range(cols)]\n",
    "    \n",
    "    # Filling the transposed matrix with elements from the original matrix\n",
    "    for i in range(rows):\n",
    "        for j in range(cols):\n",
    "            transposed[j][i] = matrix[i][j]\n",
    "    \n",
    "    return transposed"
   ]
  },
  {
   "cell_type": "code",
   "execution_count": null,
   "id": "d5957c74",
   "metadata": {},
   "outputs": [],
   "source": []
  },
  {
   "cell_type": "code",
   "execution_count": null,
   "id": "4dde2b8f",
   "metadata": {},
   "outputs": [],
   "source": [
    "matrix = [[1, 2, 3], [4, 5, 6], [7, 8, 9]]\n",
    "transposed_matrix = transpose(matrix)\n",
    "print(transposed_matrix)"
   ]
  },
  {
   "cell_type": "code",
   "execution_count": null,
   "id": "9f0b38cc",
   "metadata": {},
   "outputs": [],
   "source": [
    "##Q4\n",
    "def array_pair_sum(nums):\n",
    "    # Sorting the array in ascending order\n",
    "    nums.sort()\n",
    "    \n",
    "    # Iterating through the array and sum up every second element\n",
    "    max_sum = 0\n",
    "    for i in range(0, len(nums), 2):\n",
    "        max_sum += nums[i]\n",
    "    \n",
    "    return max_sum"
   ]
  },
  {
   "cell_type": "code",
   "execution_count": null,
   "id": "9f3efcba",
   "metadata": {},
   "outputs": [],
   "source": []
  },
  {
   "cell_type": "code",
   "execution_count": null,
   "id": "c3997195",
   "metadata": {},
   "outputs": [],
   "source": [
    "arr = [1, 4, 3, 2]\n",
    "maximized_sum = array_pair_sum(arr)\n",
    "print(maximized_sum)"
   ]
  },
  {
   "cell_type": "code",
   "execution_count": null,
   "id": "735cfcef",
   "metadata": {},
   "outputs": [],
   "source": [
    "##Q5\n",
    "def arrange_coins(n):\n",
    "    left = 0\n",
    "    right = n\n",
    "    \n",
    "    while left <= right:\n",
    "        mid = left + (right - left) // 2\n",
    "        curr = (mid * (mid + 1)) // 2\n",
    "        \n",
    "        if curr == n:\n",
    "            return mid\n",
    "        elif curr < n:\n",
    "            left = mid + 1\n",
    "        else:\n",
    "            right = mid - 1\n",
    "    \n",
    "    return right"
   ]
  },
  {
   "cell_type": "code",
   "execution_count": null,
   "id": "eec120f0",
   "metadata": {},
   "outputs": [],
   "source": [
    "n = 5\n",
    "complete_rows = arrange_coins(n)\n",
    "print(complete_rows)"
   ]
  },
  {
   "cell_type": "code",
   "execution_count": null,
   "id": "e3a7e9c3",
   "metadata": {},
   "outputs": [],
   "source": [
    "##Q6\n",
    "def sorted_squares(nums):\n",
    "    # Square each number in the array\n",
    "    squared_nums = [num ** 2 for num in nums]\n",
    "    \n",
    "    # Sort the squared numbers in non-decreasing order\n",
    "    squared_nums.sort()\n",
    "    \n",
    "    return squared_nums"
   ]
  },
  {
   "cell_type": "code",
   "execution_count": null,
   "id": "baa2e901",
   "metadata": {},
   "outputs": [],
   "source": [
    "# Example usage\n",
    "nums = [-4, -1, 0, 3, 10]\n",
    "sorted_squares_nums = sorted_squares(nums)\n",
    "print(sorted_squares_nums)"
   ]
  },
  {
   "cell_type": "code",
   "execution_count": null,
   "id": "f6ccc05c",
   "metadata": {},
   "outputs": [],
   "source": [
    "##Q7\n",
    "def max_count(m, n, ops):\n",
    "    # Check if the list of operations is empty\n",
    "    if not ops:\n",
    "        return m * n\n",
    "    \n",
    "    # Find the minimum values of ai and bi in the operations\n",
    "    min_ai = min(op[0] for op in ops)\n",
    "    min_bi = min(op[1] for op in ops)\n",
    "    \n",
    "    return min_ai * min_bi"
   ]
  },
  {
   "cell_type": "code",
   "execution_count": null,
   "id": "7f2badbe",
   "metadata": {},
   "outputs": [],
   "source": [
    "m = 3\n",
    "n = 3\n",
    "ops = [[2, 2], [3, 3]]\n",
    "max_integers = max_count(m, n, ops)\n",
    "print(max_integers)"
   ]
  },
  {
   "cell_type": "code",
   "execution_count": null,
   "id": "eab04fd5",
   "metadata": {},
   "outputs": [],
   "source": [
    "##Q8\n",
    "def shuffle_array(nums, n):\n",
    "    shuffled_nums = []\n",
    "    \n",
    "    for i in range(n):\n",
    "        shuffled_nums.append(nums[i])\n",
    "        shuffled_nums.append(nums[i + n])\n",
    "    \n",
    "    return shuffled_nums"
   ]
  },
  {
   "cell_type": "code",
   "execution_count": null,
   "id": "8b8528a3",
   "metadata": {},
   "outputs": [],
   "source": [
    "# Example usage\n",
    "nums = [2, 5, 1, 3, 4, 7]\n",
    "n = 3\n",
    "shuffled_nums = shuffle_array(nums, n)\n",
    "##print(shuffled_nums)"
   ]
  }
 ],
 "metadata": {
  "jupytext": {
   "cell_metadata_filter": "-all",
   "main_language": "python",
   "notebook_metadata_filter": "-all"
  }
 },
 "nbformat": 4,
 "nbformat_minor": 5
}
