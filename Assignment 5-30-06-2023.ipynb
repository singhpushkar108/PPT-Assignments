{
 "cells": [
  {
   "cell_type": "code",
   "execution_count": null,
   "id": "b9857f88",
   "metadata": {},
   "outputs": [],
   "source": [
    "##Q1\n",
    "def construct_2d_array(original, m, n):\n",
    "    # Checking if the number of elements in original is equal to m * n\n",
    "    if len(original) != m * n:\n",
    "        return []\n",
    "    \n",
    "    # Constructing the 2D array\n",
    "    array_2d = [original[i * n : (i + 1) * n] for i in range(m)]\n",
    "    \n",
    "    return array_2d"
   ]
  },
  {
   "cell_type": "code",
   "execution_count": null,
   "id": "bdc08798",
   "metadata": {},
   "outputs": [],
   "source": [
    "original = [1, 2, 3, 4]\n",
    "m = 2\n",
    "n = 2\n",
    "result = construct_2d_array(original, m, n)\n",
    "print(result)"
   ]
  },
  {
   "cell_type": "code",
   "execution_count": null,
   "id": "8ae1ddf5",
   "metadata": {
    "lines_to_next_cell": 1
   },
   "outputs": [],
   "source": [
    "##Q2\n",
    "def count_complete_rows(n):\n",
    "    # Finding the maximum value of k where k*(k+1)/2 <= n\n",
    "    k = int((2 * n) ** 0.5) - 1\n",
    "    return k"
   ]
  },
  {
   "cell_type": "code",
   "execution_count": null,
   "id": "5a504e1b",
   "metadata": {},
   "outputs": [],
   "source": [
    "n = 5\n",
    "result = count_complete_rows(n)\n",
    "print(result)"
   ]
  },
  {
   "cell_type": "code",
   "execution_count": null,
   "id": "4b092f53",
   "metadata": {
    "lines_to_next_cell": 1
   },
   "outputs": [],
   "source": [
    "##Q3\n",
    "def sorted_squares(nums):\n",
    "    squared_nums = [num ** 2 for num in nums]\n",
    "    squared_nums.sort()\n",
    "    return squared_nums"
   ]
  },
  {
   "cell_type": "code",
   "execution_count": null,
   "id": "89d7545c",
   "metadata": {},
   "outputs": [],
   "source": [
    "# Example usage\n",
    "nums = [-4, -1, 0, 3, 10]\n",
    "result = sorted_squares(nums)\n",
    "print(result)"
   ]
  },
  {
   "cell_type": "code",
   "execution_count": null,
   "id": "3bda15ea",
   "metadata": {
    "lines_to_next_cell": 1
   },
   "outputs": [],
   "source": [
    "##Q4\n",
    "def find_disjoint_nums(nums1, nums2):\n",
    "    set1 = set(nums1)\n",
    "    set2 = set(nums2)\n",
    "\n",
    "    disjoint_nums1 = list(set1 - set2)\n",
    "    disjoint_nums2 = list(set2 - set1)\n",
    "\n",
    "    return [disjoint_nums1, disjoint_nums2]"
   ]
  },
  {
   "cell_type": "code",
   "execution_count": null,
   "id": "7a18cadf",
   "metadata": {},
   "outputs": [],
   "source": [
    "# Example usage\n",
    "nums1 = [1, 2, 3]\n",
    "nums2 = [2, 4, 6]\n",
    "result = find_disjoint_nums(nums1, nums2)\n",
    "print(result)"
   ]
  },
  {
   "cell_type": "code",
   "execution_count": null,
   "id": "a0a34862",
   "metadata": {
    "lines_to_next_cell": 1
   },
   "outputs": [],
   "source": [
    "##Q5\n",
    "def distance_value(arr1, arr2, d):\n",
    "    distance = 0\n",
    "\n",
    "    for num1 in arr1:\n",
    "        found = False\n",
    "        for num2 in arr2:\n",
    "            if abs(num1 - num2) <= d:\n",
    "                found = True\n",
    "                break\n",
    "        if not found:\n",
    "            distance += 1\n",
    "\n",
    "    return distance"
   ]
  },
  {
   "cell_type": "code",
   "execution_count": null,
   "id": "45130172",
   "metadata": {},
   "outputs": [],
   "source": [
    "# Example usage\n",
    "arr1 = [4, 5, 8]\n",
    "arr2 = [10, 9, 1, 8]\n",
    "d = 2\n",
    "result = distance_value(arr1, arr2, d)\n",
    "print(result)"
   ]
  },
  {
   "cell_type": "code",
   "execution_count": null,
   "id": "9dd5cf15",
   "metadata": {
    "lines_to_next_cell": 1
   },
   "outputs": [],
   "source": [
    "##Q6\n",
    "def findDuplicates(nums):\n",
    "    result = []\n",
    "    for num in nums:\n",
    "        # Get the absolute value of the number\n",
    "        num = abs(num)\n",
    "        # Check if the number at the corresponding index is positive\n",
    "        if nums[num - 1] > 0:\n",
    "            # Negate the value at the corresponding index\n",
    "            nums[num - 1] = -nums[num - 1]\n",
    "        else:\n",
    "            # If the value is negative, it means we have seen this number before\n",
    "            result.append(num)\n",
    "    return result"
   ]
  },
  {
   "cell_type": "code",
   "execution_count": null,
   "id": "5d98792a",
   "metadata": {},
   "outputs": [],
   "source": [
    "# Example usage\n",
    "nums = [4, 3, 2, 7, 8, 2, 3, 1]\n",
    "result = findDuplicates(nums)\n",
    "print(result)"
   ]
  },
  {
   "cell_type": "code",
   "execution_count": null,
   "id": "7d9c4650",
   "metadata": {},
   "outputs": [],
   "source": [
    "##Q7\n",
    "def findMin(nums):\n",
    "    left = 0\n",
    "    right = len(nums) - 1\n",
    "\n",
    "    # If the array is not rotated, return the first element\n",
    "    if nums[left] < nums[right]:\n",
    "        return nums[left]\n",
    "\n",
    "    # Perform binary search to find the minimum element\n",
    "    while left < right:\n",
    "        mid = left + (right - left) // 2\n",
    "\n",
    "        # If the middle element is greater than the rightmost element,\n",
    "        # the minimum element lies in the right half\n",
    "        if nums[mid] > nums[right]:\n",
    "            left = mid + 1\n",
    "        # If the middle element is smaller than the rightmost element,\n",
    "        # the minimum element lies in the left half (including the middle element)\n",
    "        else:\n",
    "            right = mid\n",
    "\n",
    "    # At the end of the loop, left and right will point to the minimum element\n",
    "    return nums[left]"
   ]
  },
  {
   "cell_type": "code",
   "execution_count": null,
   "id": "4c8d14d6",
   "metadata": {
    "lines_to_next_cell": 2
   },
   "outputs": [],
   "source": [
    "nums = [3, 4, 5, 1, 2]\n",
    "min_element = findMin(nums)\n",
    "print(min_element)"
   ]
  },
  {
   "cell_type": "code",
   "execution_count": null,
   "id": "f7ca4374",
   "metadata": {
    "lines_to_next_cell": 1
   },
   "outputs": [],
   "source": [
    "##Q8\n",
    "from collections import Counter"
   ]
  },
  {
   "cell_type": "code",
   "execution_count": null,
   "id": "e933d504",
   "metadata": {},
   "outputs": [],
   "source": [
    "def findOriginalArray(changed):\n",
    "    if len(changed) % 2 != 0:\n",
    "        return []\n",
    "\n",
    "    original = []\n",
    "    count = Counter(changed)\n",
    "\n",
    "    for num in sorted(changed):\n",
    "        if count[num] == 0:\n",
    "            continue\n",
    "\n",
    "        count[num] -= 1\n",
    "        if count[num * 2] == 0:\n",
    "            return []\n",
    "\n",
    "        count[num * 2] -= 1\n",
    "        original.append(num)\n",
    "\n",
    "    return original if sum(count.values()) == 0 else []"
   ]
  },
  {
   "cell_type": "code",
   "execution_count": null,
   "id": "212fe607",
   "metadata": {},
   "outputs": [],
   "source": [
    "changed = [1, 3, 4, 2, 6, 8]\n",
    "original = findOriginalArray(changed)\n",
    "print(original)"
   ]
  }
 ],
 "metadata": {
  "jupytext": {
   "cell_metadata_filter": "-all",
   "main_language": "python",
   "notebook_metadata_filter": "-all"
  }
 },
 "nbformat": 4,
 "nbformat_minor": 5
}
