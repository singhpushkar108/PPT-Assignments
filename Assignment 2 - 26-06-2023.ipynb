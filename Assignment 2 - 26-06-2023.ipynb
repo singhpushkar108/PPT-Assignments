{
 "cells": [
  {
   "cell_type": "code",
   "execution_count": null,
   "id": "e1433cc8",
   "metadata": {
    "lines_to_next_cell": 1
   },
   "outputs": [],
   "source": [
    "##Q1\n",
    "def PairSum(arr):\n",
    "    arr.sort()  # Sorting the array in ascending order\n",
    "    pair_sum = 0\n",
    "  \n",
    "    for i in range(0, len(arr), 2):\n",
    "        pair_sum += arr[i]\n",
    "    \n",
    "    return pair_sum"
   ]
  },
  {
   "cell_type": "code",
   "execution_count": null,
   "id": "ad23f2c8",
   "metadata": {},
   "outputs": [],
   "source": [
    "arr = [1, 4, 3, 2]\n",
    "res = PairSum(arr)\n",
    "print(result)"
   ]
  },
  {
   "cell_type": "code",
   "execution_count": null,
   "id": "99ee796d",
   "metadata": {},
   "outputs": [],
   "source": []
  },
  {
   "cell_type": "code",
   "execution_count": null,
   "id": "1fedf6ff",
   "metadata": {},
   "outputs": [],
   "source": [
    "##Q2\n",
    "def candy(type):\n",
    "    max_candies = len(type) // 2  # Maximum number of candies Alice can eat\n",
    "    unique_candies = set(type)  # Set of unique candy types\n",
    "    \n",
    "    return min(len(unique_candies), max_candies)"
   ]
  },
  {
   "cell_type": "code",
   "execution_count": null,
   "id": "165f7bf6",
   "metadata": {},
   "outputs": [],
   "source": [
    "type = [1, 1, 2, 2, 3, 3]\n",
    "result = candy(type)\n",
    "print(result)"
   ]
  },
  {
   "cell_type": "code",
   "execution_count": null,
   "id": "ed492b06",
   "metadata": {},
   "outputs": [],
   "source": []
  },
  {
   "cell_type": "code",
   "execution_count": null,
   "id": "5016041d",
   "metadata": {
    "lines_to_next_cell": 1
   },
   "outputs": [],
   "source": [
    "##Q3\n",
    "from collections import Counter"
   ]
  },
  {
   "cell_type": "code",
   "execution_count": null,
   "id": "0bb06553",
   "metadata": {
    "lines_to_next_cell": 1
   },
   "outputs": [],
   "source": [
    "def findLHS(nums):\n",
    "    num_counts = Counter(nums)\n",
    "    max_len = 0\n",
    "    \n",
    "    for num in num_counts:\n",
    "        if num + 1 in num_counts:\n",
    "            length = num_counts[num] + num_counts[num + 1]\n",
    "            max_len = max(max_len, length)\n",
    "    \n",
    "    return max_len"
   ]
  },
  {
   "cell_type": "code",
   "execution_count": null,
   "id": "b174ea97",
   "metadata": {},
   "outputs": [],
   "source": [
    "nums = [1, 3, 2, 2, 5, 2, 3, 7]\n",
    "print(findLHS(nums))"
   ]
  },
  {
   "cell_type": "code",
   "execution_count": null,
   "id": "0c3f0596",
   "metadata": {},
   "outputs": [],
   "source": []
  },
  {
   "cell_type": "code",
   "execution_count": null,
   "id": "9a6777f1",
   "metadata": {},
   "outputs": [],
   "source": [
    "##Q4\n",
    "def canPlaceFlowers(flowerbed, n):\n",
    "    length = len(flowerbed)\n",
    "    count = 0\n",
    "    i = 0\n",
    "    \n",
    "    while i < length:\n",
    "        if (flowerbed[i] == 0) and (i == 0 or flowerbed[i-1] == 0) and (i == length-1 or flowerbed[i+1] == 0):\n",
    "            flowerbed[i] = 1\n",
    "            count = count + 1\n",
    "            if count >= n:\n",
    "                return True\n",
    "        i += 1\n",
    "    \n",
    "    return False"
   ]
  },
  {
   "cell_type": "code",
   "execution_count": null,
   "id": "6ad35fc6",
   "metadata": {},
   "outputs": [],
   "source": [
    "flowerbed = [1, 0, 0, 0, 1]\n",
    "n = 1\n",
    "print(canPlaceFlowers(flowerbed, n))"
   ]
  },
  {
   "cell_type": "code",
   "execution_count": null,
   "id": "e5ae925c",
   "metadata": {},
   "outputs": [],
   "source": []
  },
  {
   "cell_type": "code",
   "execution_count": null,
   "id": "5bf2588f",
   "metadata": {},
   "outputs": [],
   "source": [
    "##Q5\n",
    "def maxProduct(arr):\n",
    "    arr.sort()\n",
    "    product = arr[-1] * arr[-2] * arr[-3]\n",
    "    return product"
   ]
  },
  {
   "cell_type": "code",
   "execution_count": null,
   "id": "195e7755",
   "metadata": {},
   "outputs": [],
   "source": [
    "nums = [1, 2, 3,7,34,25]\n",
    "print(maxProduct(nums))"
   ]
  },
  {
   "cell_type": "code",
   "execution_count": null,
   "id": "4f2ed851",
   "metadata": {
    "lines_to_next_cell": 2
   },
   "outputs": [],
   "source": []
  },
  {
   "cell_type": "code",
   "execution_count": null,
   "id": "ade55f1b",
   "metadata": {
    "lines_to_next_cell": 1
   },
   "outputs": [],
   "source": [
    "##Q6\n",
    "def search(nums, target):\n",
    "    left, right = 0, len(nums) - 1\n",
    "    \n",
    "    while left <= right:\n",
    "        mid = (left + right) // 2\n",
    "        \n",
    "        if nums[mid] == target:\n",
    "            return mid\n",
    "        elif nums[mid] < target:\n",
    "            left = mid + 1\n",
    "        else:\n",
    "            right = mid - 1\n",
    "    \n",
    "    return -1"
   ]
  },
  {
   "cell_type": "code",
   "execution_count": null,
   "id": "91e86f99",
   "metadata": {},
   "outputs": [],
   "source": [
    "arr = [-1, 0, 3, 5, 9, 12]\n",
    "target = 9\n",
    "print(search(arr, target))"
   ]
  },
  {
   "cell_type": "code",
   "execution_count": null,
   "id": "75801e50",
   "metadata": {},
   "outputs": [],
   "source": []
  },
  {
   "cell_type": "code",
   "execution_count": null,
   "id": "bb841739",
   "metadata": {
    "lines_to_next_cell": 1
   },
   "outputs": [],
   "source": [
    "##Q7\n",
    "def isMonotonic(nums):\n",
    "    isIncreasing = True\n",
    "    isDecreasing = True\n",
    "    \n",
    "    for i in range(1, len(nums)):\n",
    "        if nums[i] > nums[i-1]:\n",
    "            isDecreasing = False\n",
    "        elif nums[i] < nums[i-1]:\n",
    "            isIncreasing = False\n",
    "        \n",
    "        if not isIncreasing and not isDecreasing:\n",
    "            return False\n",
    "    \n",
    "    return True"
   ]
  },
  {
   "cell_type": "code",
   "execution_count": null,
   "id": "0cb5d814",
   "metadata": {},
   "outputs": [],
   "source": [
    "nums = [1, 2, 2, 3]\n",
    "print(isMonotonic(nums))"
   ]
  },
  {
   "cell_type": "code",
   "execution_count": null,
   "id": "56274bfc",
   "metadata": {},
   "outputs": [],
   "source": []
  },
  {
   "cell_type": "code",
   "execution_count": null,
   "id": "89a34d28",
   "metadata": {
    "lines_to_next_cell": 1
   },
   "outputs": [],
   "source": [
    "##Q8\n",
    "def minimumScore(nums, k):\n",
    "    minimum = min(nums)\n",
    "    maximum = max(nums)\n",
    "    \n",
    "    if maximum - minimum <= 2 * k:\n",
    "        return 0\n",
    "    \n",
    "    potential_scores = []\n",
    "    \n",
    "    for i in range(len(nums)):\n",
    "        potential_min = min(minimum, nums[i] - k)\n",
    "        potential_max = max(maximum, nums[i] + k)\n",
    "        potential_scores.append(potential_max - potential_min)\n",
    "    \n",
    "    return min(potential_scores)"
   ]
  },
  {
   "cell_type": "code",
   "execution_count": null,
   "id": "1d56efcb",
   "metadata": {},
   "outputs": [],
   "source": [
    "nums = [1]\n",
    "k = 0\n",
    "print(minimumScore(nums, k))"
   ]
  }
 ],
 "metadata": {
  "jupytext": {
   "cell_metadata_filter": "-all",
   "main_language": "python",
   "notebook_metadata_filter": "-all"
  }
 },
 "nbformat": 4,
 "nbformat_minor": 5
}
