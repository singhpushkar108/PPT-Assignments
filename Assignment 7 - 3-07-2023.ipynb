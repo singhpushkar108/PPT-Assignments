{
 "cells": [
  {
   "cell_type": "code",
   "execution_count": null,
   "id": "649c6369",
   "metadata": {
    "lines_to_next_cell": 1
   },
   "outputs": [],
   "source": [
    "##Q1\n",
    "def is_isomorphic(s, t):\n",
    "    if len(s) != len(t):\n",
    "        return False\n",
    "    \n",
    "    char_map = {}\n",
    "    mapped_chars = set()\n",
    "\n",
    "    for i in range(len(s)):\n",
    "        char_s = s[i]\n",
    "        char_t = t[i]\n",
    "\n",
    "        if char_s in char_map:\n",
    "            if char_map[char_s] != char_t:\n",
    "                return False\n",
    "        else:\n",
    "            if char_t in mapped_chars:\n",
    "                return False\n",
    "            char_map[char_s] = char_t\n",
    "            mapped_chars.add(char_t)\n",
    "\n",
    "    return"
   ]
  },
  {
   "cell_type": "code",
   "execution_count": null,
   "id": "d18e9b48",
   "metadata": {},
   "outputs": [],
   "source": [
    "s = \"egg\"\n",
    "t = \"add\"\n",
    "print(is_isomorphic(s, t))"
   ]
  },
  {
   "cell_type": "markdown",
   "id": "c572ab9f",
   "metadata": {},
   "source": [
    "#Q2."
   ]
  },
  {
   "cell_type": "code",
   "execution_count": null,
   "id": "ea0ed9f9",
   "metadata": {},
   "outputs": [],
   "source": [
    "def is_strobogrammatic(num):\n",
    "    strobogrammatic_nums = {'0': '0', '1': '1', '6': '9', '8': '8', '9': '6'}\n",
    "\n",
    "    left = 0\n",
    "    right = len(num) - 1\n",
    "\n",
    "    while left <= right:\n",
    "        if num[left] not in strobogrammatic_nums or num[right] not in strobogrammatic_nums:\n",
    "            return False\n",
    "\n",
    "        if num[left] != strobogrammatic_nums[num[right]]:\n",
    "            return False\n",
    "\n",
    "        left += 1\n",
    "        right -= 1\n",
    "\n",
    "    return True\n",
    "num = \"69\"\n",
    "print(is_strobogrammatic(num))  # Output: True"
   ]
  },
  {
   "cell_type": "code",
   "execution_count": null,
   "id": "fe414ba1",
   "metadata": {},
   "outputs": [],
   "source": [
    "##Q3\n",
    "def addStrings(num1, num2):\n",
    "    i = len(num1) - 1\n",
    "    j = len(num2) - 1\n",
    "    carry = 0\n",
    "    result = []\n",
    "\n",
    "    while i >= 0 or j >= 0 or carry:\n",
    "        digit1 = int(num1[i]) if i >= 0 else 0\n",
    "        digit2 = int(num2[j]) if j >= 0 else 0\n",
    "\n",
    "        total = digit1 + digit2 + carry\n",
    "        carry = total // 10\n",
    "        digit_sum = total % 10\n",
    "\n",
    "        result.append(str(digit_sum))\n",
    "\n",
    "        # Move to the next digits\n",
    "        i -= 1\n",
    "        j -= 1\n",
    "\n",
    "    # Reversing the result and joining as a string\n",
    "    return ''.join(result[::-1])"
   ]
  },
  {
   "cell_type": "code",
   "execution_count": null,
   "id": "c972a549",
   "metadata": {},
   "outputs": [],
   "source": [
    "num1 = \"11\"\n",
    "num2 = \"123\"\n",
    "print(addStrings(num1, num2))"
   ]
  },
  {
   "cell_type": "code",
   "execution_count": null,
   "id": "f8929165",
   "metadata": {
    "lines_to_next_cell": 2
   },
   "outputs": [],
   "source": []
  },
  {
   "cell_type": "code",
   "execution_count": null,
   "id": "66f75a13",
   "metadata": {},
   "outputs": [],
   "source": [
    "##Q4\n",
    "def reverse_words(s):\n",
    "    words = s.split()\n",
    "    reversed_words = []\n",
    "\n",
    "    for word in words:\n",
    "        reversed_word = word[::-1]\n",
    "        reversed_words.append(reversed_word)\n",
    "\n",
    "    return ' '.join(reversed_words)"
   ]
  },
  {
   "cell_type": "code",
   "execution_count": null,
   "id": "1fb07ed4",
   "metadata": {},
   "outputs": [],
   "source": [
    "s = \"Let's take LeetCode contest\"\n",
    "print(reverse_words(s))  # Output: \"s'teL ekat edoCteeL tsetnoc\""
   ]
  },
  {
   "cell_type": "code",
   "execution_count": null,
   "id": "b1a76f30",
   "metadata": {
    "lines_to_next_cell": 1
   },
   "outputs": [],
   "source": [
    "##Q5\n",
    "def reverse_str(s, k):\n",
    "    # Converting string to a list for easier manipulation\n",
    "    s_list = list(s)\n",
    "    \n",
    "    for i in range(0, len(s), 2*k):\n",
    "        # Reversing the first k characters within each 2k segment\n",
    "        s_list[i:i+k] = s_list[i:i+k][::-1]\n",
    "    \n",
    "    # Converting the list back to a string\n",
    "    return ''.join(s_list)"
   ]
  },
  {
   "cell_type": "code",
   "execution_count": null,
   "id": "091a83a8",
   "metadata": {},
   "outputs": [],
   "source": [
    "s = \"abcdefg\"\n",
    "k = 2\n",
    "print(reverse_str(s, k))"
   ]
  },
  {
   "cell_type": "code",
   "execution_count": null,
   "id": "d62cce54",
   "metadata": {},
   "outputs": [],
   "source": []
  },
  {
   "cell_type": "code",
   "execution_count": null,
   "id": "63fa2925",
   "metadata": {},
   "outputs": [],
   "source": [
    "##Q6\n",
    "def can_shift(s, goal):\n",
    "    if len(s) != len(goal):\n",
    "        return False\n",
    "\n",
    "    concatenated = s + s\n",
    "    if goal in concatenated:\n",
    "        return True\n",
    "\n",
    "    return False"
   ]
  },
  {
   "cell_type": "code",
   "execution_count": null,
   "id": "d70e51d8",
   "metadata": {},
   "outputs": [],
   "source": [
    "s = \"abcde\"\n",
    "goal = \"cdeab\"\n",
    "print(can_shift(s, goal))"
   ]
  },
  {
   "cell_type": "code",
   "execution_count": null,
   "id": "68d5b0a4",
   "metadata": {},
   "outputs": [],
   "source": []
  },
  {
   "cell_type": "code",
   "execution_count": null,
   "id": "4f1a7f17",
   "metadata": {
    "lines_to_next_cell": 1
   },
   "outputs": [],
   "source": [
    "##Q7\n",
    "def process_backspaces(s):\n",
    "    stack = []\n",
    "    \n",
    "    for char in s:\n",
    "        if char != '#':\n",
    "            stack.append(char)\n",
    "        elif stack:\n",
    "            stack.pop()\n",
    "    \n",
    "    return ''.join(stack)"
   ]
  },
  {
   "cell_type": "code",
   "execution_count": null,
   "id": "d3732085",
   "metadata": {},
   "outputs": [],
   "source": [
    "def backspace_compare(s, t):\n",
    "    return process_backspaces(s) == process_backspaces(t)"
   ]
  },
  {
   "cell_type": "code",
   "execution_count": null,
   "id": "7a02353e",
   "metadata": {},
   "outputs": [],
   "source": [
    "s = \"ab#c\"\n",
    "t = \"ad#c\"\n",
    "print(backspace_compare(s, t)) "
   ]
  },
  {
   "cell_type": "code",
   "execution_count": null,
   "id": "6ef7957d",
   "metadata": {},
   "outputs": [],
   "source": []
  },
  {
   "cell_type": "code",
   "execution_count": null,
   "id": "e6d96448",
   "metadata": {
    "lines_to_next_cell": 1
   },
   "outputs": [],
   "source": [
    "##Q8.\n",
    "def checkStraightLine(coordinates):\n",
    "    if len(coordinates) <= 2:\n",
    "        return True\n",
    "\n",
    "    x0, y0 = coordinates[0]\n",
    "    x1, y1 = coordinates[1]\n",
    "    for i in range(2, len(coordinates)):\n",
    "        x, y = coordinates[i]\n",
    "        if (x1 - x0) * (y - y1) != (x - x1) * (y1 - y0):\n",
    "            return False\n",
    "\n",
    "    return True"
   ]
  },
  {
   "cell_type": "code",
   "execution_count": null,
   "id": "ef578cb8",
   "metadata": {},
   "outputs": [],
   "source": [
    "coordinates = [[1,2],[2,3],[3,4],[4,5],[5,6],[6,9]]\n",
    "print(checkStraightLine(coordinates))"
   ]
  }
 ],
 "metadata": {
  "jupytext": {
   "cell_metadata_filter": "-all",
   "main_language": "python",
   "notebook_metadata_filter": "-all"
  }
 },
 "nbformat": 4,
 "nbformat_minor": 5
}
