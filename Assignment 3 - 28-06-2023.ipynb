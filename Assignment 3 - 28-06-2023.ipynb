{
 "cells": [
  {
   "cell_type": "code",
   "execution_count": null,
   "id": "c9b5863e",
   "metadata": {
    "lines_to_next_cell": 1
   },
   "outputs": [],
   "source": [
    "##Q1\n",
    "def threeSumClosest(nums, target):\n",
    "    nums.sort()\n",
    "    n = len(nums)\n",
    "    closest_sum = float('inf')\n",
    "    \n",
    "    for i in range(n-2):\n",
    "        left = i + 1\n",
    "        right = n - 1\n",
    "        \n",
    "        while left < right:\n",
    "            current_sum = nums[i] + nums[left] + nums[right]\n",
    "            \n",
    "            if current_sum == target:\n",
    "                return target\n",
    "            \n",
    "            if abs(current_sum - target) < abs(closest_sum - target):\n",
    "                closest_sum = current_sum\n",
    "            \n",
    "            if current_sum < target:\n",
    "                left += 1\n",
    "            else:\n",
    "                right -= 1\n",
    "    \n",
    "    return closest_sum"
   ]
  },
  {
   "cell_type": "code",
   "execution_count": null,
   "id": "154a2e45",
   "metadata": {},
   "outputs": [],
   "source": [
    "nums = [-1, 2, 1, -4]\n",
    "target = 1\n",
    "print(threeSumClosest(nums, target))"
   ]
  },
  {
   "cell_type": "code",
   "execution_count": null,
   "id": "9dbcda95",
   "metadata": {},
   "outputs": [],
   "source": []
  },
  {
   "cell_type": "code",
   "execution_count": null,
   "id": "d2a08b8f",
   "metadata": {
    "lines_to_next_cell": 1
   },
   "outputs": [],
   "source": [
    "##Q2\n",
    "def fourSum(nums, target):\n",
    "    nums.sort()\n",
    "    n = len(nums)\n",
    "    result = []\n",
    "    \n",
    "    for i in range(n-3):\n",
    "        if i > 0 and nums[i] == nums[i-1]:\n",
    "            continue\n",
    "        \n",
    "        for j in range(i+1, n-2):\n",
    "            if j > i+1 and nums[j] == nums[j-1]:\n",
    "                continue\n",
    "            \n",
    "            left = j + 1\n",
    "            right = n - 1\n",
    "            \n",
    "            while left < right:\n",
    "                current_sum = nums[i] + nums[j] + nums[left] + nums[right]\n",
    "                \n",
    "                if current_sum == target:\n",
    "                    result.append([nums[i], nums[j], nums[left], nums[right]])\n",
    "                    left += 1\n",
    "                    right -= 1\n",
    "                    \n",
    "                    while left < right and nums[left] == nums[left-1]:\n",
    "                        left += 1\n",
    "                    while left < right and nums[right] == nums[right+1]:\n",
    "                        right -= 1\n",
    "                \n",
    "                elif current_sum < target:\n",
    "                    left += 1\n",
    "                else:\n",
    "                    right -= 1\n",
    "    \n",
    "    return result"
   ]
  },
  {
   "cell_type": "code",
   "execution_count": null,
   "id": "f63c620e",
   "metadata": {},
   "outputs": [],
   "source": [
    "nums = [1, 0, -1, 0, -2, 2]\n",
    "target = 0\n",
    "print(fourSum(nums, target))"
   ]
  },
  {
   "cell_type": "code",
   "execution_count": null,
   "id": "db3d9a21",
   "metadata": {},
   "outputs": [],
   "source": []
  },
  {
   "cell_type": "code",
   "execution_count": null,
   "id": "cf8dcaae",
   "metadata": {},
   "outputs": [],
   "source": [
    "##Q3\n",
    "def nextPermutation(nums):\n",
    "    n = len(nums)\n",
    "    i = n - 1\n",
    "    \n",
    "    while i > 0 and nums[i-1] >= nums[i]:\n",
    "        i -= 1\n",
    "    \n",
    "    if i == 0:\n",
    "        nums.reverse()\n",
    "        return\n",
    "    \n",
    "    j = n - 1\n",
    "    while j >= i and nums[j] <= nums[i-1]:\n",
    "        j -= 1\n",
    "    \n",
    "    nums[i-1], nums[j] = nums[j], nums[i-1]\n",
    "    nums[i:] = nums[i:][::-1]"
   ]
  },
  {
   "cell_type": "code",
   "execution_count": null,
   "id": "a5f6fe80",
   "metadata": {},
   "outputs": [],
   "source": [
    "nums = [1, 2, 3]\n",
    "nextPermutation(nums)\n",
    "print(nums)"
   ]
  },
  {
   "cell_type": "code",
   "execution_count": null,
   "id": "90453808",
   "metadata": {},
   "outputs": [],
   "source": [
    "##Q4\n",
    "def searchInsert(nums, target):\n",
    "    left = 0\n",
    "    right = len(nums) - 1\n",
    "    \n",
    "    while left <= right:\n",
    "        mid = (left + right) // 2\n",
    "        \n",
    "        if nums[mid] == target:\n",
    "            return mid\n",
    "        elif nums[mid] < target:\n",
    "            left = mid + 1\n",
    "        else:\n",
    "            right = mid - 1\n",
    "    \n",
    "    return left"
   ]
  },
  {
   "cell_type": "code",
   "execution_count": null,
   "id": "421a7890",
   "metadata": {},
   "outputs": [],
   "source": [
    "nums = [1, 3, 5, 6]\n",
    "target = 5\n",
    "print(searchInsert(nums, target))"
   ]
  },
  {
   "cell_type": "code",
   "execution_count": null,
   "id": "7f30dbd9",
   "metadata": {
    "lines_to_next_cell": 2
   },
   "outputs": [],
   "source": []
  },
  {
   "cell_type": "code",
   "execution_count": null,
   "id": "a543cf6f",
   "metadata": {
    "lines_to_next_cell": 1
   },
   "outputs": [],
   "source": [
    "##Q5\n",
    "def plusOne(digits):\n",
    "    n = len(digits)\n",
    "    carry = 1\n",
    "    \n",
    "    for i in range(n-1, -1, -1):\n",
    "        digits[i] += carry\n",
    "        carry = digits[i] // 10\n",
    "        digits[i] %= 10\n",
    "        \n",
    "        if carry == 0:\n",
    "            return digits\n",
    "    \n",
    "    if carry > 0:\n",
    "        digits.insert(0, carry)\n",
    "    \n",
    "    return digits"
   ]
  },
  {
   "cell_type": "code",
   "execution_count": null,
   "id": "dfca9126",
   "metadata": {},
   "outputs": [],
   "source": [
    "digits = [1, 2, 3]\n",
    "print(plusOne(digits))"
   ]
  },
  {
   "cell_type": "code",
   "execution_count": null,
   "id": "176573b6",
   "metadata": {
    "lines_to_next_cell": 2
   },
   "outputs": [],
   "source": []
  },
  {
   "cell_type": "code",
   "execution_count": null,
   "id": "0556fcbc",
   "metadata": {
    "lines_to_next_cell": 1
   },
   "outputs": [],
   "source": [
    "##Q6\n",
    "def singleNumber(nums):\n",
    "    result = 0\n",
    "    for num in nums:\n",
    "        result ^= num\n",
    "    return result"
   ]
  },
  {
   "cell_type": "code",
   "execution_count": null,
   "id": "05510ada",
   "metadata": {},
   "outputs": [],
   "source": [
    "nums = [2, 2, 1]\n",
    "print(singleNumber(nums))"
   ]
  },
  {
   "cell_type": "code",
   "execution_count": null,
   "id": "1eda4efb",
   "metadata": {
    "lines_to_next_cell": 2
   },
   "outputs": [],
   "source": []
  },
  {
   "cell_type": "code",
   "execution_count": null,
   "id": "f10e83d6",
   "metadata": {
    "lines_to_next_cell": 1
   },
   "outputs": [],
   "source": [
    "##Q7\n",
    "def findMissingRanges(nums, lower, upper):\n",
    "    result = []\n",
    "    start = lower - 1\n",
    "    \n",
    "    for num in nums + [upper + 1]:\n",
    "        if num == start + 1:\n",
    "            start = num\n",
    "        elif num > start + 1:\n",
    "            result.append(getRange(start + 1, num - 1))\n",
    "            start = num\n",
    "    \n",
    "    return result"
   ]
  },
  {
   "cell_type": "code",
   "execution_count": null,
   "id": "00e2197c",
   "metadata": {},
   "outputs": [],
   "source": [
    "def getRange(start, end):\n",
    "    if start == end:\n",
    "        return str(start)\n",
    "    else:\n",
    "        return str(start) + \"->\" + str(end)"
   ]
  },
  {
   "cell_type": "code",
   "execution_count": null,
   "id": "713ed1aa",
   "metadata": {},
   "outputs": [],
   "source": [
    "nums = [0, 1, 3, 50, 75]\n",
    "lower = 0\n",
    "upper = 99\n",
    "print(findMissingRanges(nums, lower, upper))"
   ]
  },
  {
   "cell_type": "code",
   "execution_count": null,
   "id": "a68badd8",
   "metadata": {},
   "outputs": [],
   "source": []
  },
  {
   "cell_type": "code",
   "execution_count": null,
   "id": "b8f551a9",
   "metadata": {
    "lines_to_next_cell": 1
   },
   "outputs": [],
   "source": [
    "##Q8\n",
    "def Meetings(intervals):\n",
    "    intervals.sort(key=lambda x: x[0])\n",
    "    \n",
    "    for i in range(1, len(intervals)):\n",
    "        if intervals[i][0] < intervals[i-1][1]:\n",
    "            return False\n",
    "    \n",
    "    return True"
   ]
  },
  {
   "cell_type": "code",
   "execution_count": null,
   "id": "587140a6",
   "metadata": {},
   "outputs": [],
   "source": [
    "intervals = [[0, 30], [5, 10], [15, 20]]\n",
    "print(Meetings(intervals))"
   ]
  },
  {
   "cell_type": "code",
   "execution_count": null,
   "id": "feda3e1d",
   "metadata": {},
   "outputs": [],
   "source": []
  },
  {
   "cell_type": "code",
   "execution_count": null,
   "id": "f6ec2033",
   "metadata": {},
   "outputs": [],
   "source": []
  }
 ],
 "metadata": {
  "jupytext": {
   "cell_metadata_filter": "-all",
   "main_language": "python",
   "notebook_metadata_filter": "-all"
  }
 },
 "nbformat": 4,
 "nbformat_minor": 5
}
