{
 "cells": [
  {
   "cell_type": "code",
   "execution_count": null,
   "id": "7df5cbbd",
   "metadata": {},
   "outputs": [],
   "source": [
    "##Q1\n",
    "def two_sum(numbers, target):\n",
    "    left = 0\n",
    "    right = len(numbers) - 1\n",
    "\n",
    "    while left < right:\n",
    "        current_sum = numbers[left] + numbers[right]\n",
    "\n",
    "        if current_sum == target:\n",
    "            return [left + 1, right + 1]  # Adding 1 to the indices to make them 1-indexed\n",
    "        elif current_sum < target:\n",
    "            left += 1\n",
    "        else:\n",
    "            right -= 1\n",
    "\n",
    "    return []  # If no solution is found, return an empty list"
   ]
  },
  {
   "cell_type": "code",
   "execution_count": null,
   "id": "3936ce0c",
   "metadata": {},
   "outputs": [],
   "source": [
    "numbers = [2, 7, 11, 15]\n",
    "target = 9\n",
    "output = two_sum(numbers, target)\n",
    "print(output)  "
   ]
  },
  {
   "cell_type": "code",
   "execution_count": null,
   "id": "85edaf13",
   "metadata": {
    "lines_to_next_cell": 1
   },
   "outputs": [],
   "source": [
    "##Q2\n",
    "def searchRange(nums, target):\n",
    "    def binary_search_left(nums, target):\n",
    "        left, right = 0, len(nums) - 1\n",
    "        while left <= right:\n",
    "            mid = left + (right - left) // 2\n",
    "            if nums[mid] == target:\n",
    "                right = mid - 1\n",
    "            elif nums[mid] < target:\n",
    "                left = mid + 1\n",
    "            else:\n",
    "                right = mid - 1\n",
    "        return left\n",
    "\n",
    "    def binary_search_right(nums, target):\n",
    "        left, right = 0, len(nums) - 1\n",
    "        while left <= right:\n",
    "            mid = left + (right - left) // 2\n",
    "            if nums[mid] == target:\n",
    "                left = mid + 1\n",
    "            elif nums[mid] < target:\n",
    "                left = mid + 1\n",
    "            else:\n",
    "                right = mid - 1\n",
    "        return right\n",
    "\n",
    "    left_index = binary_search_left(nums, target)\n",
    "    right_index = binary_search_right(nums, target)\n",
    "\n",
    "    if left_index <= right_index:\n",
    "        return [left_index, right_index]\n",
    "    else:\n",
    "        return [-1, -1]"
   ]
  },
  {
   "cell_type": "code",
   "execution_count": null,
   "id": "d7c49967",
   "metadata": {},
   "outputs": [],
   "source": [
    "nums = [5, 7, 7, 8, 8, 10]\n",
    "target = 8\n",
    "output = searchRange(nums, target)\n",
    "print(output)"
   ]
  },
  {
   "cell_type": "code",
   "execution_count": null,
   "id": "8575b009",
   "metadata": {},
   "outputs": [],
   "source": []
  },
  {
   "cell_type": "code",
   "execution_count": null,
   "id": "61d8fb48",
   "metadata": {
    "lines_to_next_cell": 1
   },
   "outputs": [],
   "source": [
    "##Q3\n",
    "def findPeakElement(nums):\n",
    "    left, right = 0, len(nums) - 1\n",
    "\n",
    "    while left < right:\n",
    "        mid = left + (right - left) // 2\n",
    "\n",
    "        # Check if the mid element is smaller than its right neighbor.\n",
    "        if nums[mid] < nums[mid + 1]:\n",
    "            left = mid + 1\n",
    "        else:\n",
    "            right = mid\n",
    "\n",
    "    # At the end of the loop, left and right will point to the same element,\n",
    "    # which is a peak element.\n",
    "    return left"
   ]
  },
  {
   "cell_type": "code",
   "execution_count": null,
   "id": "2b810033",
   "metadata": {},
   "outputs": [],
   "source": [
    "nums = [1, 2, 1, 3, 5, 6, 4]\n",
    "output = findPeakElement(nums)\n",
    "print(output)"
   ]
  },
  {
   "cell_type": "code",
   "execution_count": null,
   "id": "6e7c5b99",
   "metadata": {},
   "outputs": [],
   "source": [
    "##Q4\n",
    "def searchInsert(nums, target):\n",
    "    left, right = 0, len(nums) - 1\n",
    "\n",
    "    while left <= right:\n",
    "        mid = left + (right - left) // 2\n",
    "\n",
    "        if nums[mid] == target:\n",
    "            return mid\n",
    "        elif nums[mid] < target:\n",
    "            left = mid + 1\n",
    "        else:\n",
    "            right = mid - 1\n",
    "\n",
    "    # At this point, left and right have crossed each other, and\n",
    "    # the target value is not found in the array. The left pointer\n",
    "    # now points to the index where the target should be inserted.\n",
    "    return left"
   ]
  },
  {
   "cell_type": "code",
   "execution_count": null,
   "id": "6a8c1c37",
   "metadata": {},
   "outputs": [],
   "source": [
    "nums1 = [1, 3, 5, 6]\n",
    "target1 = 5\n",
    "output1 = searchInsert(nums1, target1)\n",
    "print(output1)"
   ]
  },
  {
   "cell_type": "code",
   "execution_count": null,
   "id": "d36a7dee",
   "metadata": {},
   "outputs": [],
   "source": [
    "##Q5\n",
    "def findMajorityElement(nums):\n",
    "    candidate = None\n",
    "    count = 0\n",
    "\n",
    "    for num in nums:\n",
    "        if count == 0:\n",
    "            candidate = num\n",
    "            count = 1\n",
    "        elif num == candidate:\n",
    "            count += 1\n",
    "        else:\n",
    "            count -= 1\n",
    "\n",
    "    # At this point, the candidate variable holds the potential majority element.\n",
    "    # To confirm if it's the majority element, we count its occurrences in the array.\n",
    "    # If it appears more than n/2 times, it is indeed the majority element.\n",
    "    count = 0\n",
    "    for num in nums:\n",
    "        if num == candidate:\n",
    "            count += 1\n",
    "\n",
    "    n = len(nums)\n",
    "    if count > n // 2:\n",
    "        return candidate\n",
    "    else:\n",
    "        return None  # No majority element found"
   ]
  },
  {
   "cell_type": "code",
   "execution_count": null,
   "id": "10ad79d5",
   "metadata": {},
   "outputs": [],
   "source": [
    "A = [3, 3, 4, 2, 4, 4, 2, 4, 4]\n",
    "output = findMajorityElement(A)\n",
    "print(output)"
   ]
  },
  {
   "cell_type": "code",
   "execution_count": null,
   "id": "ca8fc665",
   "metadata": {
    "lines_to_next_cell": 1
   },
   "outputs": [],
   "source": [
    "##Q6\n",
    "def firstBadVersion(n):\n",
    "    left, right = 1, n\n",
    "\n",
    "    while left < right:\n",
    "        mid = left + (right - left) // 2\n",
    "\n",
    "        if isBadVersion(mid):\n",
    "            right = mid\n",
    "        else:\n",
    "            left = mid + 1\n",
    "\n",
    "    return left"
   ]
  },
  {
   "cell_type": "code",
   "execution_count": null,
   "id": "a044bbf4",
   "metadata": {
    "lines_to_next_cell": 1
   },
   "outputs": [],
   "source": [
    "# Example usage of the API function isBadVersion(version)\n",
    "# For the purpose of this example, let's assume the bad version is 4.\n",
    "bad_version = 4"
   ]
  },
  {
   "cell_type": "code",
   "execution_count": null,
   "id": "d3db5cc7",
   "metadata": {
    "lines_to_next_cell": 1
   },
   "outputs": [],
   "source": [
    "def isBadVersion(version):\n",
    "    return version >= bad_version"
   ]
  },
  {
   "cell_type": "code",
   "execution_count": null,
   "id": "59de3072",
   "metadata": {
    "lines_to_next_cell": 1
   },
   "outputs": [],
   "source": [
    "n = 5\n",
    "output = firstBadVersion(n)\n",
    "print(output)"
   ]
  },
  {
   "cell_type": "code",
   "execution_count": null,
   "id": "c8ecdcfc",
   "metadata": {
    "lines_to_next_cell": 1
   },
   "outputs": [],
   "source": [
    "##Q7\n",
    "def mergeSort(arr):\n",
    "    if len(arr) <= 1:\n",
    "        return arr, 0\n",
    "\n",
    "    mid = len(arr) // 2\n",
    "    left, inversions_left = mergeSort(arr[:mid])\n",
    "    right, inversions_right = mergeSort(arr[mid:])\n",
    "    merged, inversions_merge = merge(left, right)\n",
    "\n",
    "    total_inversions = inversions_left + inversions_right + inversions_merge\n",
    "    return merged, total_inversions"
   ]
  },
  {
   "cell_type": "code",
   "execution_count": null,
   "id": "318b1854",
   "metadata": {},
   "outputs": [],
   "source": [
    "def merge(left, right):\n",
    "    merged = []\n",
    "    inversions = 0\n",
    "    i, j = 0, 0\n",
    "\n",
    "    while i < len(left) and j < len(right):\n",
    "        if left[i] <= right[j]:\n",
    "            merged.append(left[i])\n",
    "            i += 1\n",
    "        else:\n",
    "            merged.append(right[j])\n",
    "            inversions += len(left) - i\n",
    "            j += 1\n",
    "\n",
    "    merged.extend(left[i:])\n",
    "    merged.extend(right[j:])\n",
    "    return merged, inversions"
   ]
  },
  {
   "cell_type": "code",
   "execution_count": null,
   "id": "dd2178f9",
   "metadata": {},
   "outputs": [],
   "source": [
    "arr = [2, 4, 1, 3, 5]\n",
    "output = mergeSort(arr)[1]\n",
    "print(output)"
   ]
  },
  {
   "cell_type": "code",
   "execution_count": null,
   "id": "74791b09",
   "metadata": {},
   "outputs": [],
   "source": [
    "##Q8\n",
    "def findCommonElements(ar1, ar2, ar3):\n",
    "    result = []\n",
    "    i, j, k = 0, 0, 0\n",
    "\n",
    "    while i < len(ar1) and j < len(ar2) and k < len(ar3):\n",
    "        if ar1[i] == ar2[j] == ar3[k]:\n",
    "            result.append(ar1[i])\n",
    "            i += 1\n",
    "            j += 1\n",
    "            k += 1\n",
    "        elif ar1[i] <= ar2[j] and ar1[i] <= ar3[k]:\n",
    "            i += 1\n",
    "        elif ar2[j] <= ar1[i] and ar2[j] <= ar3[k]:\n",
    "            j += 1\n",
    "        else:\n",
    "            k += 1\n",
    "\n",
    "    return result"
   ]
  },
  {
   "cell_type": "code",
   "execution_count": null,
   "id": "5a3ac7ca",
   "metadata": {},
   "outputs": [],
   "source": [
    "ar1 = [1, 5, 10, 20, 40, 80]\n",
    "ar2 = [6, 7, 20, 80, 100]\n",
    "ar3 = [3, 4, 15, 20, 30, 70, 80, 120]"
   ]
  },
  {
   "cell_type": "code",
   "execution_count": null,
   "id": "fdae5aa2",
   "metadata": {},
   "outputs": [],
   "source": [
    "output = findCommonElements(ar1, ar2, ar3)\n",
    "print(output)  "
   ]
  }
 ],
 "metadata": {
  "jupytext": {
   "cell_metadata_filter": "-all",
   "main_language": "python",
   "notebook_metadata_filter": "-all"
  }
 },
 "nbformat": 4,
 "nbformat_minor": 5
}
